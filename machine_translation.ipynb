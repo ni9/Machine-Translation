{
  "cells": [
    {
      "cell_type": "markdown",
      "metadata": {
        "collapsed": true,
        "id": "EB5MYuBFF3Pk"
      },
      "source": [
        "# Artificial Intelligence Nanodegree\n",
        "## Machine Translation Project\n",
        "In this notebook, sections that end with **'(IMPLEMENTATION)'** in the header indicate that the following blocks of code will require additional functionality which you must provide. Please be sure to read the instructions carefully!\n",
        "\n",
        "## Introduction\n",
        "In this notebook, you will build a deep neural network that functions as part of an end-to-end machine translation pipeline. Your completed pipeline will accept English text as input and return the French translation.\n",
        "\n",
        "- **Preprocess** - You'll convert text to sequence of integers.\n",
        "- **Models** Create models which accepts a sequence of integers as input and returns a probability distribution over possible translations. After learning about the basic types of neural networks that are often used for machine translation, you will engage in your own investigations, to design your own model!\n",
        "- **Prediction** Run the model on English text.\n",
        "\n",
        "## Dataset\n",
        "We begin by investigating the dataset that will be used to train and evaluate your pipeline.  The most common datasets used for machine translation are from [WMT](http://www.statmt.org/).  However, that will take a long time to train a neural network on.  We'll be using a dataset we created for this project that contains a small vocabulary.  You'll be able to train your model in a reasonable time with this dataset.\n",
        "### Load Data\n",
        "The data is located in `data/small_vocab_en` and `data/small_vocab_fr`. The `small_vocab_en` file contains English sentences with their French translations in the `small_vocab_fr` file. Load the English and French data from these files from running the cell below."
      ]
    },
    {
      "cell_type": "code",
      "execution_count": 2,
      "metadata": {
        "colab": {
          "base_uri": "https://localhost:8080/"
        },
        "id": "B0iDux7XF3Po",
        "outputId": "2d7e63f1-c6a4-4992-a89f-97688ebe017b"
      },
      "outputs": [
        {
          "output_type": "stream",
          "name": "stdout",
          "text": [
            "Dataset Loaded\n"
          ]
        }
      ],
      "source": [
        "import helper\n",
        "\n",
        "\n",
        "# Load English data\n",
        "english_sentences = helper.load_data('data/small_vocab_en')\n",
        "# Load French data\n",
        "french_sentences = helper.load_data('data/small_vocab_fr')\n",
        "\n",
        "print('Dataset Loaded')"
      ]
    },
    {
      "cell_type": "markdown",
      "metadata": {
        "id": "MI5wOi1-F3Pq"
      },
      "source": [
        "### Files\n",
        "Each line in `small_vocab_en` contains an English sentence with the respective translation in each line of `small_vocab_fr`.  View the first two lines from each file."
      ]
    },
    {
      "cell_type": "code",
      "execution_count": 3,
      "metadata": {
        "colab": {
          "base_uri": "https://localhost:8080/"
        },
        "id": "-LAPKvCqF3Pq",
        "outputId": "8b8ef0ac-bda3-4032-a1e2-237ba35e316f"
      },
      "outputs": [
        {
          "output_type": "stream",
          "name": "stdout",
          "text": [
            "small_vocab_en Line 1:  new jersey is sometimes quiet during autumn , and it is snowy in april .\n",
            "small_vocab_fr Line 1:  new jersey est parfois calme pendant l' automne , et il est neigeux en avril .\n",
            "small_vocab_en Line 2:  the united states is usually chilly during july , and it is usually freezing in november .\n",
            "small_vocab_fr Line 2:  les états-unis est généralement froid en juillet , et il gèle habituellement en novembre .\n"
          ]
        }
      ],
      "source": [
        "for sample_i in range(2):\n",
        "    print('small_vocab_en Line {}:  {}'.format(sample_i + 1, english_sentences[sample_i]))\n",
        "    print('small_vocab_fr Line {}:  {}'.format(sample_i + 1, french_sentences[sample_i]))"
      ]
    },
    {
      "cell_type": "markdown",
      "metadata": {
        "id": "3gvpskgfF3Pr"
      },
      "source": [
        "From looking at the sentences, you can see they have been preprocessed already.  The puncuations have been delimited using spaces. All the text have been converted to lowercase.  This should save you some time, but the text requires more preprocessing.\n",
        "### Vocabulary\n",
        "The complexity of the problem is determined by the complexity of the vocabulary.  A more complex vocabulary is a more complex problem.  Let's look at the complexity of the dataset we'll be working with."
      ]
    },
    {
      "cell_type": "code",
      "execution_count": 4,
      "metadata": {
        "colab": {
          "base_uri": "https://localhost:8080/"
        },
        "id": "nPU_dQeGF3Pr",
        "outputId": "38dadad1-429d-4586-a426-6a139c78f14f"
      },
      "outputs": [
        {
          "output_type": "stream",
          "name": "stdout",
          "text": [
            "1823250 English words.\n",
            "227 unique English words.\n",
            "10 Most common words in the English dataset:\n",
            "\"is\" \",\" \".\" \"in\" \"it\" \"during\" \"the\" \"but\" \"and\" \"sometimes\"\n",
            "\n",
            "1801591 French words.\n",
            "355 unique French words.\n",
            "10 Most common words in the French dataset:\n",
            "\"est\" \".\" \",\" \"en\" \"il\" \"les\" \"mais\" \"et\" \"la\" \"parfois\"\n"
          ]
        }
      ],
      "source": [
        "import collections\n",
        "\n",
        "\n",
        "english_words_counter = collections.Counter([word for sentence in english_sentences for word in sentence.split()])\n",
        "french_words_counter = collections.Counter([word for sentence in french_sentences for word in sentence.split()])\n",
        "\n",
        "print('{} English words.'.format(len([word for sentence in english_sentences for word in sentence.split()])))\n",
        "print('{} unique English words.'.format(len(english_words_counter)))\n",
        "print('10 Most common words in the English dataset:')\n",
        "print('\"' + '\" \"'.join(list(zip(*english_words_counter.most_common(10)))[0]) + '\"')\n",
        "print()\n",
        "print('{} French words.'.format(len([word for sentence in french_sentences for word in sentence.split()])))\n",
        "print('{} unique French words.'.format(len(french_words_counter)))\n",
        "print('10 Most common words in the French dataset:')\n",
        "print('\"' + '\" \"'.join(list(zip(*french_words_counter.most_common(10)))[0]) + '\"')"
      ]
    },
    {
      "cell_type": "markdown",
      "metadata": {
        "id": "PFqjoIujF3Ps"
      },
      "source": [
        "For comparison, _Alice's Adventures in Wonderland_ contains 2,766 unique words of a total of 15,500 words.\n",
        "## Preprocess\n",
        "For this project, you won't use text data as input to your model. Instead, you'll convert the text into sequences of integers using the following preprocess methods:\n",
        "1. Tokenize the words into ids\n",
        "2. Add padding to make all the sequences the same length.\n",
        "\n",
        "Time to start preprocessing the data...\n",
        "### Tokenize (IMPLEMENTATION)\n",
        "For a neural network to predict on text data, it first has to be turned into data it can understand. Text data like \"dog\" is a sequence of ASCII character encodings.  Since a neural network is a series of multiplication and addition operations, the input data needs to be number(s).\n",
        "\n",
        "We can turn each character into a number or each word into a number.  These are called character and word ids, respectively.  Character ids are used for character level models that generate text predictions for each character.  A word level model uses word ids that generate text predictions for each word.  Word level models tend to learn better, since they are lower in complexity, so we'll use those.\n",
        "\n",
        "Turn each sentence into a sequence of words ids using Keras's [`Tokenizer`](https://keras.io/preprocessing/text/#tokenizer) function. Use this function to tokenize `english_sentences` and `french_sentences` in the cell below.\n",
        "\n",
        "Running the cell will run `tokenize` on sample data and show output for debugging."
      ]
    },
    {
      "cell_type": "code",
      "execution_count": 6,
      "metadata": {
        "colab": {
          "base_uri": "https://localhost:8080/"
        },
        "id": "FJ1l8WQvF3Ps",
        "outputId": "55190360-4699-4164-d460-59bbe10f0a47"
      },
      "outputs": [
        {
          "output_type": "stream",
          "name": "stdout",
          "text": [
            "\n",
            "Sequence 1 in x\n",
            "  Input:  Le renard brun rapide saute par-dessus le chien paresseux .\n",
            "  Output: [1, 4, 5, 2, 6, 3, 7, 1, 8, 9]\n",
            "Sequence 2 in x\n",
            "  Input:  Par Jove, mon étude rapide de la lexicographie a remporté un prix .\n",
            "  Output: [3, 10, 11, 12, 2, 13, 14, 15, 16, 17, 18, 19]\n",
            "Sequence 3 in x\n",
            "  Input:  Ceci est une courte phrase .\n",
            "  Output: [20, 21, 22, 23, 24]\n"
          ]
        }
      ],
      "source": [
        "# !pip3 install keras \n",
        "#!pip3 install tensorflow\n",
        "# !pip3 install tensorflow==2.4\n",
        "#!pip3 install numpy\n",
        "# !pip3 install numpy==1.19.5\n",
        "import project_tests as tests\n",
        "from tensorflow.keras.preprocessing.text import Tokenizer\n",
        "\n",
        "# from tensorflow.python import _pywrap_bfloat16\n",
        "# bfloat16 = _pywrap_bfloat16.TF_bfloat16_type()\n",
        "\n",
        "\n",
        "def tokenize(x):\n",
        "    \"\"\"\n",
        "    Tokenize x\n",
        "    :param x: List of sentences/strings to be tokenized\n",
        "    :return: Tuple of (tokenized x data, tokenizer used to tokenize x)\n",
        "    \"\"\"\n",
        "    # TODO: Implement\n",
        "    tokenizer = Tokenizer()\n",
        "    tokenizer.fit_on_texts(x)\n",
        "    return tokenizer.texts_to_sequences(x), tokenizer\n",
        "    \n",
        "tests.test_tokenize(tokenize)\n",
        "\n",
        "# Tokenize Example output\n",
        "#text_sentences = [\n",
        "#    'The quick brown fox jumps over the lazy dog .',\n",
        "#    'By Jove , my quick study of lexicography won a prize .',\n",
        "#    'This is a short sentence .']\n",
        "\n",
        "text_sentences = [\n",
        "    'Le renard brun rapide saute par-dessus le chien paresseux .',\n",
        "    'Par Jove, mon étude rapide de la lexicographie a remporté un prix .',\n",
        "    'Ceci est une courte phrase .']    \n",
        "text_tokenized, text_tokenizer = tokenize(text_sentences)\n",
        "# print(text_tokenizer.word_index)\n",
        "print()\n",
        "for sample_i, (sent, token_sent) in enumerate(zip(text_sentences, text_tokenized)):\n",
        "    print('Sequence {} in x'.format(sample_i + 1))\n",
        "    print('  Input:  {}'.format(sent))\n",
        "    print('  Output: {}'.format(token_sent))"
      ]
    },
    {
      "cell_type": "markdown",
      "metadata": {
        "id": "XOd2i7ZUF3Ps"
      },
      "source": [
        "### Padding (IMPLEMENTATION)\n",
        "When batching the sequence of word ids together, each sequence needs to be the same length.  Since sentences are dynamic in length, we can add padding to the end of the sequences to make them the same length.\n",
        "\n",
        "Make sure all the English sequences have the same length and all the French sequences have the same length by adding padding to the **end** of each sequence using Keras's [`pad_sequences`](https://keras.io/preprocessing/sequence/#pad_sequences) function."
      ]
    },
    {
      "cell_type": "code",
      "execution_count": 7,
      "metadata": {
        "colab": {
          "base_uri": "https://localhost:8080/"
        },
        "id": "jXvLqwUkF3Pt",
        "outputId": "c6e581d4-643a-4969-9e4d-699b43e96236"
      },
      "outputs": [
        {
          "output_type": "stream",
          "name": "stdout",
          "text": [
            "Sequence 1 in x\n",
            "  Input:  [1 4 5 2 6 3 7 1 8 9]\n",
            "  Output: [1 4 5 2 6 3 7 1 8 9 0 0]\n",
            "Sequence 2 in x\n",
            "  Input:  [ 3 10 11 12  2 13 14 15 16 17 18 19]\n",
            "  Output: [ 3 10 11 12  2 13 14 15 16 17 18 19]\n",
            "Sequence 3 in x\n",
            "  Input:  [20 21 22 23 24]\n",
            "  Output: [20 21 22 23 24  0  0  0  0  0  0  0]\n"
          ]
        }
      ],
      "source": [
        "import numpy as np\n",
        "from tensorflow.keras.preprocessing.sequence import pad_sequences\n",
        "\n",
        "\n",
        "def pad(x, length=None):\n",
        "    \"\"\"\n",
        "    Pad x\n",
        "    :param x: List of sequences.\n",
        "    :param length: Length to pad the sequence to.  If None, use length of longest sequence in x.\n",
        "    :return: Padded numpy array of sequences\n",
        "    \"\"\"\n",
        "    # TODO: Implement\n",
        "    return pad_sequences(x, maxlen=length, padding='post')\n",
        "\n",
        "tests.test_pad(pad)\n",
        "\n",
        "# Pad Tokenized output\n",
        "test_pad = pad(text_tokenized)\n",
        "for sample_i, (token_sent, pad_sent) in enumerate(zip(text_tokenized, test_pad)):\n",
        "    print('Sequence {} in x'.format(sample_i + 1))\n",
        "    print('  Input:  {}'.format(np.array(token_sent)))\n",
        "    print('  Output: {}'.format(pad_sent))"
      ]
    },
    {
      "cell_type": "markdown",
      "metadata": {
        "id": "ePgd2hvkF3Pt"
      },
      "source": [
        "### Preprocess Pipeline\n",
        "Your focus for this project is to build neural network architecture, so we won't ask you to create a preprocess pipeline.  Instead, we've provided you with the implementation of the `preprocess` function."
      ]
    },
    {
      "cell_type": "code",
      "execution_count": 9,
      "metadata": {
        "colab": {
          "base_uri": "https://localhost:8080/"
        },
        "id": "o6xvKtTRF3Pt",
        "outputId": "6d4ec2e7-9203-4be2-92a5-e619a87b5517"
      },
      "outputs": [
        {
          "output_type": "stream",
          "name": "stdout",
          "text": [
            "Data Preprocessed\n"
          ]
        }
      ],
      "source": [
        "def preprocess(x, y):\n",
        "    \"\"\"\n",
        "    Preprocess x and y\n",
        "    :param x: Feature List of sentences\n",
        "    :param y: Label List of sentences\n",
        "    :return: Tuple of (Preprocessed x, Preprocessed y, x tokenizer, y tokenizer)\n",
        "    \"\"\"\n",
        "    preprocess_x, x_tk = tokenize(x)\n",
        "    preprocess_y, y_tk = tokenize(y)\n",
        "\n",
        "    preprocess_x = pad(preprocess_x)\n",
        "    preprocess_y = pad(preprocess_y)\n",
        "\n",
        "    # Keras's sparse_categorical_crossentropy function requires the labels to be in 3 dimensions\n",
        "    preprocess_y = preprocess_y.reshape(*preprocess_y.shape, 1)\n",
        "\n",
        "#    return preprocess_x, preprocess_y, x_tk, y_tk\n",
        "\n",
        "#preproc_english_sentences, preproc_french_sentences, english_tokenizer, french_tokenizer =\\\n",
        "#    preprocess(english_sentences, french_sentences)\n",
        "\n",
        "    return preprocess_x, preprocess_y, x_tk, y_tk\n",
        "\n",
        "preproc_french_sentences, preproc_english_sentences, french_tokenizer, english_tokenizer =\\\n",
        "    preprocess(french_sentences, english_sentences)\n",
        "\n",
        "print('Data Preprocessed')"
      ]
    },
    {
      "cell_type": "markdown",
      "metadata": {
        "id": "-j4GAnmuF3Pu"
      },
      "source": [
        "## Models\n",
        "In this section, you will experiment with various neural network architectures.\n",
        "You will begin by training four relatively simple architectures.\n",
        "- Model 1 is a simple RNN\n",
        "- Model 2 is a RNN with Embedding\n",
        "- Model 3 is a Bidirectional RNN\n",
        "- Model 4 is an optional Encoder-Decoder RNN\n",
        "\n",
        "After experimenting with the four simple architectures, you will construct a deeper architecture that is designed to outperform all four models.\n",
        "### Ids Back to Text\n",
        "The neural network will be translating the input to words ids, which isn't the final form we want.  We want the French translation.  The function `logits_to_text` will bridge the gab between the logits from the neural network to the French translation.  You'll be using this function to better understand the output of the neural network."
      ]
    },
    {
      "cell_type": "code",
      "execution_count": 10,
      "metadata": {
        "colab": {
          "base_uri": "https://localhost:8080/"
        },
        "id": "nwmBFAIzF3Pu",
        "outputId": "9e279796-7f25-4f72-bd65-6a6055b0d812"
      },
      "outputs": [
        {
          "output_type": "stream",
          "name": "stdout",
          "text": [
            "`logits_to_text` function loaded.\n"
          ]
        }
      ],
      "source": [
        "def logits_to_text(logits, tokenizer):\n",
        "    \"\"\"\n",
        "    Turn logits from a neural network into text using the tokenizer\n",
        "    :param logits: Logits from a neural network\n",
        "    :param tokenizer: Keras Tokenizer fit on the labels\n",
        "    :return: String that represents the text of the logits\n",
        "    \"\"\"\n",
        "    index_to_words = {id: word for word, id in tokenizer.word_index.items()}\n",
        "    index_to_words[0] = '<PAD>'\n",
        "\n",
        "    return ' '.join([index_to_words[prediction] for prediction in np.argmax(logits, 1)])\n",
        "\n",
        "print('`logits_to_text` function loaded.')"
      ]
    },
    {
      "cell_type": "markdown",
      "metadata": {
        "id": "Orm_Udg-F3Pu"
      },
      "source": [
        "### Model 1: RNN (IMPLEMENTATION)\n",
        "![RNN](images/rnn.png)\n",
        "A basic RNN model is a good baseline for sequence data.  In this model, you'll build a RNN that translates English to French."
      ]
    },
    {
      "cell_type": "code",
      "execution_count": 14,
      "metadata": {
        "colab": {
          "base_uri": "https://localhost:8080/"
        },
        "id": "HESkPAyJF3Pv",
        "outputId": "39e3347b-590b-4a6b-f651-c3d2d02a7613"
      },
      "outputs": [
        {
          "output_type": "stream",
          "name": "stdout",
          "text": [
            "Epoch 1/10\n",
            "99/99 [==============================] - 173s 2s/step - loss: 2.5348 - accuracy: 0.4084 - val_loss: 1.6291 - val_accuracy: 0.5434\n",
            "Epoch 2/10\n",
            "99/99 [==============================] - 159s 2s/step - loss: 1.5053 - accuracy: 0.5632 - val_loss: 1.3101 - val_accuracy: 0.6006\n",
            "Epoch 3/10\n",
            "99/99 [==============================] - 157s 2s/step - loss: 1.3029 - accuracy: 0.5981 - val_loss: 1.1772 - val_accuracy: 0.6227\n",
            "Epoch 4/10\n",
            "99/99 [==============================] - 157s 2s/step - loss: 1.1935 - accuracy: 0.6202 - val_loss: 1.0966 - val_accuracy: 0.6411\n",
            "Epoch 5/10\n",
            "99/99 [==============================] - 157s 2s/step - loss: 1.1266 - accuracy: 0.6351 - val_loss: 1.0429 - val_accuracy: 0.6520\n",
            "Epoch 6/10\n",
            "99/99 [==============================] - 157s 2s/step - loss: 1.0827 - accuracy: 0.6431 - val_loss: 1.0155 - val_accuracy: 0.6578\n",
            "Epoch 7/10\n",
            "99/99 [==============================] - 158s 2s/step - loss: 1.0538 - accuracy: 0.6482 - val_loss: 0.9838 - val_accuracy: 0.6659\n",
            "Epoch 8/10\n",
            "99/99 [==============================] - 159s 2s/step - loss: 1.0289 - accuracy: 0.6533 - val_loss: 0.9797 - val_accuracy: 0.6652\n",
            "Epoch 9/10\n",
            "99/99 [==============================] - 158s 2s/step - loss: 1.0216 - accuracy: 0.6537 - val_loss: 0.9588 - val_accuracy: 0.6724\n",
            "Epoch 10/10\n",
            "99/99 [==============================] - 157s 2s/step - loss: 1.0015 - accuracy: 0.6588 - val_loss: 0.9528 - val_accuracy: 0.6665\n",
            "1/1 [==============================] - 0s 332ms/step\n",
            "the is sometimes during during fall and it is snowy in april <PAD> <PAD> <PAD>\n"
          ]
        }
      ],
      "source": [
        "from tensorflow.keras.layers import GRU, Input, Dense, TimeDistributed\n",
        "from tensorflow.keras.models import Model\n",
        "from tensorflow.keras.layers import Activation\n",
        "from tensorflow.keras.optimizers import Adam\n",
        "from tensorflow.keras.losses import sparse_categorical_crossentropy\n",
        "from tensorflow.keras.models import Sequential\n",
        "from tensorflow.keras.layers import Dropout\n",
        "\n",
        "\n",
        "#def simple_model(input_shape, output_sequence_length, english_vocab_size, french_vocab_size):\n",
        "def simple_model(input_shape, output_sequence_length, french_vocab_size, english_vocab_size):  \n",
        "    \"\"\"\n",
        "    Build and train a basic RNN on x and y\n",
        "    :param input_shape: Tuple of input shape\n",
        "    :param output_sequence_length: Length of output sequence\n",
        "    :param english_vocab_size: Number of unique English words in the dataset\n",
        "    :param french_vocab_size: Number of unique French words in the dataset\n",
        "    :return: Keras model built, but not trained\n",
        "    \"\"\"\n",
        "    # TODO: Build the layers\n",
        "    # Hyperparameters\n",
        "    learning_rate = 0.005\n",
        "    \n",
        "    # TODO: Build the layers\n",
        "    model = Sequential()\n",
        "    model.add(GRU(256, input_shape=input_shape[1:], return_sequences=True))\n",
        "    model.add(TimeDistributed(Dense(1024, activation='relu')))\n",
        "    model.add(Dropout(0.5))\n",
        "    model.add(TimeDistributed(Dense(french_vocab_size, activation='softmax'))) \n",
        "\n",
        "    # Compile model\n",
        "    model.compile(loss=sparse_categorical_crossentropy,\n",
        "                  optimizer=Adam(learning_rate),\n",
        "                  metrics=['accuracy'])\n",
        "    return model\n",
        "\n",
        "# tests.test_simple_model(simple_model)\n",
        "\n",
        "\n",
        "# Reshaping the input to work with a basic RNN\n",
        "#tmp_x = pad(preproc_english_sentences, preproc_french_sentences.shape[1])\n",
        "#tmp_x = tmp_x.reshape((-1, preproc_french_sentences.shape[-2], 1))\n",
        "\n",
        "tmp_x = pad(preproc_french_sentences, preproc_english_sentences.shape[1])\n",
        "tmp_x = tmp_x.reshape((-1, preproc_english_sentences.shape[-2], 1))\n",
        "\n",
        "# Train the neural network\n",
        "#simple_rnn_model = simple_model(\n",
        "#    tmp_x.shape,\n",
        "#    preproc_french_sentences.shape[1],\n",
        "#    len(english_tokenizer.word_index),\n",
        "#    len(french_tokenizer.word_index))\n",
        "#simple_rnn_model.fit(tmp_x, preproc_french_sentences, batch_size=1024, epochs=10, validation_split=0.2)\n",
        "\n",
        "simple_rnn_model = simple_model(\n",
        "    tmp_x.shape,\n",
        "    preproc_english_sentences.shape[1],\n",
        "    len(french_tokenizer.word_index),\n",
        "    len(english_tokenizer.word_index))\n",
        "simple_rnn_model.fit(tmp_x, preproc_english_sentences, batch_size=1024, epochs=10, validation_split=0.2)\n",
        "\n",
        "# Print prediction(s)\n",
        "#print(logits_to_text(simple_rnn_model.predict(tmp_x[:1])[0], french_tokenizer))\n",
        "print(logits_to_text(simple_rnn_model.predict(tmp_x[:1])[0], english_tokenizer))"
      ]
    },
    {
      "cell_type": "markdown",
      "metadata": {
        "id": "c0EI2ROyF3Pv"
      },
      "source": [
        "### Model 2: Embedding (IMPLEMENTATION)\n",
        "![RNN](images/embedding.png)\n",
        "You've turned the words into ids, but there's a better representation of a word.  This is called word embeddings.  An embedding is a vector representation of the word that is close to similar words in n-dimensional space, where the n represents the size of the embedding vectors.\n",
        "\n",
        "In this model, you'll create a RNN model using embedding."
      ]
    },
    {
      "cell_type": "code",
      "execution_count": 16,
      "metadata": {
        "colab": {
          "base_uri": "https://localhost:8080/"
        },
        "id": "DOFY7puLF3Pv",
        "outputId": "18906d75-8031-4628-8e1e-1478cd7f7654"
      },
      "outputs": [
        {
          "output_type": "stream",
          "name": "stdout",
          "text": [
            "Model: \"sequential_5\"\n",
            "_________________________________________________________________\n",
            " Layer (type)                Output Shape              Param #   \n",
            "=================================================================\n",
            " embedding_2 (Embedding)     (None, 15, 256)           88320     \n",
            "                                                                 \n",
            " gru_5 (GRU)                 (None, 15, 256)           394752    \n",
            "                                                                 \n",
            " time_distributed_10 (TimeDi  (None, 15, 1024)         263168    \n",
            " stributed)                                                      \n",
            "                                                                 \n",
            " dropout_5 (Dropout)         (None, 15, 1024)          0         \n",
            "                                                                 \n",
            " time_distributed_11 (TimeDi  (None, 15, 200)          205000    \n",
            " stributed)                                                      \n",
            "                                                                 \n",
            "=================================================================\n",
            "Total params: 951,240\n",
            "Trainable params: 951,240\n",
            "Non-trainable params: 0\n",
            "_________________________________________________________________\n",
            "Epoch 1/10\n",
            "99/99 [==============================] - 162s 2s/step - loss: 2.2218 - accuracy: 0.4624 - val_loss: 1.3298 - val_accuracy: 0.6032\n",
            "Epoch 2/10\n",
            "99/99 [==============================] - 159s 2s/step - loss: 1.2091 - accuracy: 0.6255 - val_loss: 1.0404 - val_accuracy: 0.6604\n",
            "Epoch 3/10\n",
            "99/99 [==============================] - 169s 2s/step - loss: 1.0035 - accuracy: 0.6695 - val_loss: 0.8869 - val_accuracy: 0.6987\n",
            "Epoch 4/10\n",
            "99/99 [==============================] - 169s 2s/step - loss: 0.8713 - accuracy: 0.6964 - val_loss: 0.7951 - val_accuracy: 0.7156\n",
            "Epoch 5/10\n",
            "99/99 [==============================] - 165s 2s/step - loss: 0.8132 - accuracy: 0.7078 - val_loss: 0.7769 - val_accuracy: 0.7179\n",
            "Epoch 6/10\n",
            "99/99 [==============================] - 169s 2s/step - loss: 0.7939 - accuracy: 0.7123 - val_loss: 0.7688 - val_accuracy: 0.7187\n",
            "Epoch 7/10\n",
            "99/99 [==============================] - 164s 2s/step - loss: 0.7843 - accuracy: 0.7142 - val_loss: 0.7605 - val_accuracy: 0.7219\n",
            "Epoch 8/10\n",
            "99/99 [==============================] - 170s 2s/step - loss: 0.7816 - accuracy: 0.7151 - val_loss: 0.7598 - val_accuracy: 0.7236\n",
            "Epoch 9/10\n",
            "99/99 [==============================] - 160s 2s/step - loss: 0.7714 - accuracy: 0.7176 - val_loss: 0.7531 - val_accuracy: 0.7252\n",
            "Epoch 10/10\n",
            "99/99 [==============================] - 159s 2s/step - loss: 0.7664 - accuracy: 0.7189 - val_loss: 0.7522 - val_accuracy: 0.7244\n",
            "1/1 [==============================] - 0s 343ms/step\n",
            "india is sometimes during during autumn and it is snowy in april <PAD> <PAD> <PAD>\n"
          ]
        }
      ],
      "source": [
        "from tensorflow.keras.layers import Embedding\n",
        "\n",
        "\n",
        "#def embed_model(input_shape, output_sequence_length, english_vocab_size, french_vocab_size):\n",
        "def embed_model(input_shape, output_sequence_length, french_vocab_size, english_vocab_size):\n",
        "    \"\"\"\n",
        "    Build and train a RNN model using word embedding on x and y\n",
        "    :param input_shape: Tuple of input shape\n",
        "    :param output_sequence_length: Length of output sequence\n",
        "    :param english_vocab_size: Number of unique English words in the dataset\n",
        "    :param french_vocab_size: Number of unique French words in the dataset\n",
        "    :return: Keras model built, but not trained\n",
        "    \"\"\"\n",
        "    # TODO: Implement\n",
        "\n",
        "    # Hyperparameters\n",
        "    learning_rate = 0.005\n",
        "    \n",
        "    # TODO: Build the layers\n",
        "    model = Sequential()\n",
        "    #model.add(Embedding(english_vocab_size, 256, input_length=input_shape[1], input_shape=input_shape[1:]))\n",
        "    model.add(Embedding(french_vocab_size, 256, input_length=input_shape[1], input_shape=input_shape[1:]))\n",
        "    model.add(GRU(256, return_sequences=True))    \n",
        "    model.add(TimeDistributed(Dense(1024, activation='relu')))\n",
        "    model.add(Dropout(0.5))\n",
        "    #model.add(TimeDistributed(Dense(french_vocab_size, activation='softmax'))) \n",
        "    model.add(TimeDistributed(Dense(english_vocab_size, activation='softmax')))\n",
        "\n",
        "    # Compile model\n",
        "    model.compile(loss=sparse_categorical_crossentropy,\n",
        "                  optimizer=Adam(learning_rate),\n",
        "                  metrics=['accuracy'])\n",
        "    return model\n",
        "\n",
        "# tests.test_embed_model(embed_model)\n",
        "\n",
        "\n",
        "# TODO: Reshape the input\n",
        "#tmp_x = pad(preproc_english_sentences, preproc_french_sentences.shape[1])\n",
        "#tmp_x = tmp_x.reshape((-1, preproc_french_sentences.shape[-2]))\n",
        "tmp_x = pad(preproc_french_sentences, preproc_english_sentences.shape[1])\n",
        "tmp_x = tmp_x.reshape((-1, preproc_english_sentences.shape[-2]))\n",
        "\n",
        "# TODO: Train the neural network\n",
        "#embed_rnn_model = embed_model(\n",
        "#    tmp_x.shape,\n",
        "#   preproc_french_sentences.shape[1],\n",
        "#    len(english_tokenizer.word_index)+1,\n",
        "#    len(french_tokenizer.word_index)+1)\n",
        "\n",
        "embed_rnn_model = embed_model(\n",
        "    tmp_x.shape,\n",
        "    preproc_english_sentences.shape[1],\n",
        "    len(french_tokenizer.word_index)+1,\n",
        "    len(english_tokenizer.word_index)+1)\n",
        "\n",
        "embed_rnn_model.summary()\n",
        "\n",
        "#embed_rnn_model.fit(tmp_x, preproc_french_sentences, batch_size=1024, epochs=10, validation_split=0.2)\n",
        "embed_rnn_model.fit(tmp_x, preproc_english_sentences, batch_size=1024, epochs=10, validation_split=0.2)\n",
        "\n",
        "# TODO: Print prediction(s)\n",
        "#print(logits_to_text(embed_rnn_model.predict(tmp_x[:1])[0], french_tokenizer))\n",
        "print(logits_to_text(embed_rnn_model.predict(tmp_x[:1])[0], english_tokenizer))"
      ]
    },
    {
      "cell_type": "markdown",
      "metadata": {
        "id": "z7AMyaC0F3Pw"
      },
      "source": [
        "### Model 3: Bidirectional RNNs (IMPLEMENTATION)\n",
        "![RNN](images/bidirectional.png)\n",
        "One restriction of a RNN is that it can't see the future input, only the past.  This is where bidirectional recurrent neural networks come in.  They are able to see the future data."
      ]
    },
    {
      "cell_type": "code",
      "execution_count": 19,
      "metadata": {
        "colab": {
          "base_uri": "https://localhost:8080/"
        },
        "id": "96sVVUehF3Pw",
        "outputId": "29afdfe3-80a1-4c0b-e1f1-6148628efd5a"
      },
      "outputs": [
        {
          "output_type": "stream",
          "name": "stdout",
          "text": [
            "Model: \"sequential_7\"\n",
            "_________________________________________________________________\n",
            " Layer (type)                Output Shape              Param #   \n",
            "=================================================================\n",
            " embedding_4 (Embedding)     (None, 15, 256)           88320     \n",
            "                                                                 \n",
            " gru_7 (GRU)                 (None, 15, 256)           394752    \n",
            "                                                                 \n",
            " time_distributed_14 (TimeDi  (None, 15, 1024)         263168    \n",
            " stributed)                                                      \n",
            "                                                                 \n",
            " dropout_7 (Dropout)         (None, 15, 1024)          0         \n",
            "                                                                 \n",
            " time_distributed_15 (TimeDi  (None, 15, 200)          205000    \n",
            " stributed)                                                      \n",
            "                                                                 \n",
            "=================================================================\n",
            "Total params: 951,240\n",
            "Trainable params: 951,240\n",
            "Non-trainable params: 0\n",
            "_________________________________________________________________\n",
            "Epoch 1/10\n",
            "99/99 [==============================] - 172s 2s/step - loss: 2.1986 - accuracy: 0.4651 - val_loss: 1.3547 - val_accuracy: 0.5990\n",
            "Epoch 2/10\n",
            "99/99 [==============================] - 160s 2s/step - loss: 1.2311 - accuracy: 0.6222 - val_loss: 1.0673 - val_accuracy: 0.6565\n",
            "Epoch 3/10\n",
            "99/99 [==============================] - 160s 2s/step - loss: 1.0119 - accuracy: 0.6690 - val_loss: 0.8890 - val_accuracy: 0.6983\n",
            "Epoch 4/10\n",
            "99/99 [==============================] - 160s 2s/step - loss: 1.0305 - accuracy: 0.6640 - val_loss: 0.9140 - val_accuracy: 0.6855\n",
            "Epoch 5/10\n",
            "99/99 [==============================] - 160s 2s/step - loss: 0.8661 - accuracy: 0.6951 - val_loss: 0.7867 - val_accuracy: 0.7191\n",
            "Epoch 6/10\n",
            "99/99 [==============================] - 170s 2s/step - loss: 0.8102 - accuracy: 0.7084 - val_loss: 0.7702 - val_accuracy: 0.7208\n",
            "Epoch 7/10\n",
            "99/99 [==============================] - 161s 2s/step - loss: 0.7919 - accuracy: 0.7129 - val_loss: 0.7663 - val_accuracy: 0.7203\n",
            "Epoch 8/10\n",
            "99/99 [==============================] - 159s 2s/step - loss: 0.7834 - accuracy: 0.7147 - val_loss: 0.7590 - val_accuracy: 0.7235\n",
            "Epoch 9/10\n",
            "99/99 [==============================] - 159s 2s/step - loss: 0.7765 - accuracy: 0.7165 - val_loss: 0.7557 - val_accuracy: 0.7241\n",
            "Epoch 10/10\n",
            "99/99 [==============================] - 160s 2s/step - loss: 0.7713 - accuracy: 0.7179 - val_loss: 0.7526 - val_accuracy: 0.7244\n"
          ]
        },
        {
          "output_type": "stream",
          "name": "stderr",
          "text": [
            "WARNING:tensorflow:5 out of the last 5 calls to <function Model.make_predict_function.<locals>.predict_function at 0x7f18256cf550> triggered tf.function retracing. Tracing is expensive and the excessive number of tracings could be due to (1) creating @tf.function repeatedly in a loop, (2) passing tensors with different shapes, (3) passing Python objects instead of tensors. For (1), please define your @tf.function outside of the loop. For (2), @tf.function has reduce_retracing=True option that can avoid unnecessary retracing. For (3), please refer to https://www.tensorflow.org/guide/function#controlling_retracing and https://www.tensorflow.org/api_docs/python/tf/function for  more details.\n"
          ]
        },
        {
          "output_type": "stream",
          "name": "stdout",
          "text": [
            "1/1 [==============================] - 0s 330ms/step\n",
            "new is sometimes during during fall and it is snowy in april <PAD> <PAD> <PAD>\n"
          ]
        }
      ],
      "source": [
        "from tensorflow.keras.layers import Bidirectional\n",
        "\n",
        "\n",
        "#def bd_model(input_shape, output_sequence_length, english_vocab_size, french_vocab_size):\n",
        "def bd_model(input_shape, output_sequence_length, french_vocab_size, english_vocab_size):\n",
        "    \"\"\"\n",
        "    Build and train a bidirectional RNN model on x and y\n",
        "    :param input_shape: Tuple of input shape\n",
        "    :param output_sequence_length: Length of output sequence\n",
        "    :param english_vocab_size: Number of unique English words in the dataset\n",
        "    :param french_vocab_size: Number of unique French words in the dataset\n",
        "    :return: Keras model built, but not trained\n",
        "    \"\"\"\n",
        "    # TODO: Implement\n",
        "\n",
        "    # Hyperparameters\n",
        "    learning_rate = 0.003\n",
        "    \n",
        "    # TODO: Build the layers\n",
        "    model = Sequential()\n",
        "    model.add(Bidirectional(GRU(128, return_sequences=True), input_shape=input_shape[1:]))\n",
        "    model.add(TimeDistributed(Dense(1024, activation='relu')))\n",
        "    model.add(Dropout(0.5))\n",
        "    #model.add(TimeDistributed(Dense(french_vocab_size, activation='softmax'))) \n",
        "    model.add(TimeDistributed(Dense(english_vocab_size, activation='softmax')))\n",
        "\n",
        "    # Compile model\n",
        "    model.compile(loss=sparse_categorical_crossentropy,\n",
        "                  optimizer=Adam(learning_rate),\n",
        "                  metrics=['accuracy'])\n",
        "    return model\n",
        "\n",
        "# tests.test_bd_model(bd_model)\n",
        "\n",
        "# TODO: Reshape the input\n",
        "#tmp_x = pad(preproc_english_sentences, preproc_french_sentences.shape[1])\n",
        "#tmp_x = tmp_x.reshape((-1, preproc_french_sentences.shape[-2]))\n",
        "\n",
        "tmp_x = pad(preproc_french_sentences, preproc_english_sentences.shape[1])\n",
        "tmp_x = tmp_x.reshape((-1, preproc_english_sentences.shape[-2]))\n",
        "\n",
        "# TODO: Train and Print prediction(s)\n",
        "#embed_rnn_model = embed_model(\n",
        "#    tmp_x.shape,\n",
        "#    preproc_french_sentences.shape[1],\n",
        "#   len(english_tokenizer.word_index)+1,\n",
        "#    len(french_tokenizer.word_index)+1)\n",
        "\n",
        "embed_rnn_model = embed_model(\n",
        "    tmp_x.shape,\n",
        "    preproc_english_sentences.shape[1],\n",
        "    len(french_tokenizer.word_index)+1,\n",
        "    len(english_tokenizer.word_index)+1)\n",
        "\n",
        "embed_rnn_model.summary()\n",
        "\n",
        "#embed_rnn_model.fit(tmp_x, preproc_french_sentences, batch_size=1024, epochs=10, validation_split=0.2)\n",
        "embed_rnn_model.fit(tmp_x, preproc_english_sentences, batch_size=1024, epochs=10, validation_split=0.2)\n",
        "\n",
        "#print(logits_to_text(embed_rnn_model.predict(tmp_x[:1])[0], french_tokenizer))\n",
        "print(logits_to_text(embed_rnn_model.predict(tmp_x[:1])[0], english_tokenizer))"
      ]
    },
    {
      "cell_type": "markdown",
      "metadata": {
        "id": "TulHkSVCF3Px"
      },
      "source": [
        "### Model 4: Encoder-Decoder (OPTIONAL)\n",
        "Time to look at encoder-decoder models.  This model is made up of an encoder and decoder. The encoder creates a matrix representation of the sentence.  The decoder takes this matrix as input and predicts the translation as output.\n",
        "\n",
        "Create an encoder-decoder model in the cell below."
      ]
    },
    {
      "cell_type": "code",
      "execution_count": 20,
      "metadata": {
        "colab": {
          "base_uri": "https://localhost:8080/"
        },
        "id": "pK8Sme6jF3Px",
        "outputId": "8d175beb-3a18-4091-b04f-cc1433c26903"
      },
      "outputs": [
        {
          "output_type": "stream",
          "name": "stdout",
          "text": [
            "Model: \"sequential_8\"\n",
            "_________________________________________________________________\n",
            " Layer (type)                Output Shape              Param #   \n",
            "=================================================================\n",
            " gru_8 (GRU)                 (None, 256)               198912    \n",
            "                                                                 \n",
            " repeat_vector (RepeatVector  (None, 15, 256)          0         \n",
            " )                                                               \n",
            "                                                                 \n",
            " gru_9 (GRU)                 (None, 15, 256)           394752    \n",
            "                                                                 \n",
            " time_distributed_16 (TimeDi  (None, 15, 1024)         263168    \n",
            " stributed)                                                      \n",
            "                                                                 \n",
            " dropout_8 (Dropout)         (None, 15, 1024)          0         \n",
            "                                                                 \n",
            " time_distributed_17 (TimeDi  (None, 15, 200)          205000    \n",
            " stributed)                                                      \n",
            "                                                                 \n",
            "=================================================================\n",
            "Total params: 1,061,832\n",
            "Trainable params: 1,061,832\n",
            "Non-trainable params: 0\n",
            "_________________________________________________________________\n",
            "Epoch 1/10\n",
            "99/99 [==============================] - 202s 2s/step - loss: 2.8439 - accuracy: 0.3714 - val_loss: 1.9674 - val_accuracy: 0.4690\n",
            "Epoch 2/10\n",
            "99/99 [==============================] - 198s 2s/step - loss: 1.7996 - accuracy: 0.5082 - val_loss: 1.5419 - val_accuracy: 0.5593\n",
            "Epoch 3/10\n",
            "99/99 [==============================] - 199s 2s/step - loss: 1.4885 - accuracy: 0.5647 - val_loss: 1.3481 - val_accuracy: 0.5876\n",
            "Epoch 4/10\n",
            "99/99 [==============================] - 197s 2s/step - loss: 1.3451 - accuracy: 0.5872 - val_loss: 1.2569 - val_accuracy: 0.6020\n",
            "Epoch 5/10\n",
            "99/99 [==============================] - 203s 2s/step - loss: 1.2715 - accuracy: 0.5989 - val_loss: 1.1956 - val_accuracy: 0.6148\n",
            "Epoch 6/10\n",
            "99/99 [==============================] - 194s 2s/step - loss: 1.2366 - accuracy: 0.6038 - val_loss: 1.3372 - val_accuracy: 0.5761\n",
            "Epoch 7/10\n",
            "99/99 [==============================] - 193s 2s/step - loss: 1.1920 - accuracy: 0.6122 - val_loss: 1.1266 - val_accuracy: 0.6245\n",
            "Epoch 8/10\n",
            "99/99 [==============================] - 193s 2s/step - loss: 1.1340 - accuracy: 0.6229 - val_loss: 1.0810 - val_accuracy: 0.6347\n",
            "Epoch 9/10\n",
            "99/99 [==============================] - 200s 2s/step - loss: 1.0925 - accuracy: 0.6310 - val_loss: 1.0326 - val_accuracy: 0.6471\n",
            "Epoch 10/10\n",
            "99/99 [==============================] - 193s 2s/step - loss: 1.0554 - accuracy: 0.6401 - val_loss: 1.0059 - val_accuracy: 0.6534\n"
          ]
        },
        {
          "output_type": "execute_result",
          "data": {
            "text/plain": [
              "<keras.callbacks.History at 0x7f182495feb0>"
            ]
          },
          "metadata": {},
          "execution_count": 20
        }
      ],
      "source": [
        "from tensorflow.keras.layers import RepeatVector\n",
        "\n",
        "\n",
        "#def encdec_model(input_shape, output_sequence_length, english_vocab_size, french_vocab_size):\n",
        "def encdec_model(input_shape, output_sequence_length, french_vocab_size, english_vocab_size):\n",
        "    \"\"\"\n",
        "    Build and train an encoder-decoder model on x and y\n",
        "    :param input_shape: Tuple of input shape\n",
        "    :param output_sequence_length: Length of output sequence\n",
        "    :param english_vocab_size: Number of unique English words in the dataset\n",
        "    :param french_vocab_size: Number of unique French words in the dataset\n",
        "    :return: Keras model built, but not trained\n",
        "    \"\"\"\n",
        "    # OPTIONAL: Implement\n",
        "    \n",
        "    # Hyperparameters\n",
        "    learning_rate = 0.001\n",
        "    \n",
        "    # Build the layers    \n",
        "    model = Sequential()\n",
        "    # Encoder\n",
        "    model.add(GRU(256, input_shape=input_shape[1:], go_backwards=True))\n",
        "    model.add(RepeatVector(output_sequence_length))\n",
        "    # Decoder\n",
        "    model.add(GRU(256, return_sequences=True))\n",
        "    model.add(TimeDistributed(Dense(1024, activation='relu')))\n",
        "    model.add(Dropout(0.5))\n",
        "    #model.add(TimeDistributed(Dense(french_vocab_size, activation='softmax')))\n",
        "    model.add(TimeDistributed(Dense(english_vocab_size, activation='softmax')))\n",
        "\n",
        "    # Compile model\n",
        "    model.compile(loss=sparse_categorical_crossentropy,\n",
        "                  optimizer=Adam(learning_rate),\n",
        "                  metrics=['accuracy'])\n",
        "    \n",
        "    return model\n",
        "\n",
        "# tests.test_encdec_model(encdec_model)\n",
        "\n",
        "# Reshape the input\n",
        "#tmp_x = pad(preproc_english_sentences, preproc_french_sentences.shape[1])\n",
        "#tmp_x = tmp_x.reshape((-1, preproc_french_sentences.shape[-2], 1))\n",
        "\n",
        "tmp_x = pad(preproc_french_sentences, preproc_english_sentences.shape[1])\n",
        "tmp_x = tmp_x.reshape((-1, preproc_english_sentences.shape[-2], 1))\n",
        "\n",
        "# Train and Print prediction(s)\n",
        "#encdec_rnn_model = encdec_model(\n",
        "#    tmp_x.shape,\n",
        "#    preproc_french_sentences.shape[1],\n",
        "#    len(english_tokenizer.word_index)+1,\n",
        "#    len(french_tokenizer.word_index)+1)\n",
        "\n",
        "encdec_rnn_model = encdec_model(\n",
        "    tmp_x.shape,\n",
        "    preproc_english_sentences.shape[1],\n",
        "    len(french_tokenizer.word_index)+1,\n",
        "    len(english_tokenizer.word_index)+1)\n",
        "\n",
        "encdec_rnn_model.summary()\n",
        "\n",
        "#encdec_rnn_model.fit(tmp_x, preproc_french_sentences, batch_size=1024, epochs=10, validation_split=0.2)\n",
        "encdec_rnn_model.fit(tmp_x, preproc_english_sentences, batch_size=1024, epochs=10, validation_split=0.2)"
      ]
    },
    {
      "cell_type": "markdown",
      "metadata": {
        "id": "20rNZxjzF3Px"
      },
      "source": [
        "### Model 5: Custom (IMPLEMENTATION)\n",
        "Use everything you learned from the previous models to create a model that incorporates embedding and a bidirectional rnn into one model."
      ]
    },
    {
      "cell_type": "code",
      "execution_count": 21,
      "metadata": {
        "colab": {
          "base_uri": "https://localhost:8080/"
        },
        "id": "A8knD2sHF3Py",
        "outputId": "685f4d79-0d45-4b08-9ce2-8983cf92fa0a"
      },
      "outputs": [
        {
          "output_type": "stream",
          "name": "stdout",
          "text": [
            "Final Model Loaded\n"
          ]
        }
      ],
      "source": [
        "from tensorflow.keras.layers import Bidirectional\n",
        "#def model_final(input_shape, output_sequence_length, english_vocab_size, french_vocab_size):\n",
        "def model_final(input_shape, output_sequence_length, french_vocab_size, english_vocab_size):\n",
        "    \"\"\"\n",
        "    Build and train a model that incorporates embedding, encoder-decoder, and bidirectional RNN on x and y\n",
        "    :param input_shape: Tuple of input shape\n",
        "    :param output_sequence_length: Length of output sequence\n",
        "    :param english_vocab_size: Number of unique English words in the dataset\n",
        "    :param french_vocab_size: Number of unique French words in the dataset\n",
        "    :return: Keras model built, but not trained\n",
        "    \"\"\"\n",
        "    # TODO: Implement\n",
        "\n",
        "    # Hyperparameters\n",
        "    learning_rate = 0.003\n",
        "    \n",
        "    # Build the layers    \n",
        "    model = Sequential()\n",
        "    # Embedding\n",
        "    #model.add(Embedding(english_vocab_size, 128, input_length=input_shape[1],\n",
        "    #                     input_shape=input_shape[1:]))\n",
        "    model.add(Embedding(french_vocab_size, 128, input_length=input_shape[1],\n",
        "                         input_shape=input_shape[1:]))\n",
        "    # Encoder\n",
        "    model.add(Bidirectional(GRU(128)))\n",
        "    model.add(RepeatVector(output_sequence_length))\n",
        "    # Decoder\n",
        "    model.add(Bidirectional(GRU(128, return_sequences=True)))\n",
        "    model.add(TimeDistributed(Dense(512, activation='relu')))\n",
        "    model.add(Dropout(0.5))\n",
        "    #model.add(TimeDistributed(Dense(french_vocab_size, activation='softmax')))\n",
        "    model.add(TimeDistributed(Dense(english_vocab_size, activation='softmax')))\n",
        "    model.compile(loss=sparse_categorical_crossentropy,\n",
        "                  optimizer=Adam(learning_rate),\n",
        "                  metrics=['accuracy'])\n",
        "    return model\n",
        "\n",
        "# tests.test_model_final(model_final)\n",
        "\n",
        "print('Final Model Loaded')"
      ]
    },
    {
      "cell_type": "markdown",
      "metadata": {
        "id": "sTLLnkgqF3Py"
      },
      "source": [
        "## Prediction (IMPLEMENTATION)"
      ]
    },
    {
      "cell_type": "code",
      "execution_count": 23,
      "metadata": {
        "colab": {
          "base_uri": "https://localhost:8080/"
        },
        "id": "7LYJ_GgPF3Py",
        "outputId": "3e76aaf7-0a46-4b6e-8172-690ecf075f34"
      },
      "outputs": [
        {
          "output_type": "stream",
          "name": "stdout",
          "text": [
            "Model: \"sequential_10\"\n",
            "_________________________________________________________________\n",
            " Layer (type)                Output Shape              Param #   \n",
            "=================================================================\n",
            " embedding_6 (Embedding)     (None, 21, 128)           44160     \n",
            "                                                                 \n",
            " bidirectional_2 (Bidirectio  (None, 256)              198144    \n",
            " nal)                                                            \n",
            "                                                                 \n",
            " repeat_vector_2 (RepeatVect  (None, 15, 256)          0         \n",
            " or)                                                             \n",
            "                                                                 \n",
            " bidirectional_3 (Bidirectio  (None, 15, 256)          296448    \n",
            " nal)                                                            \n",
            "                                                                 \n",
            " time_distributed_20 (TimeDi  (None, 15, 512)          131584    \n",
            " stributed)                                                      \n",
            "                                                                 \n",
            " dropout_10 (Dropout)        (None, 15, 512)           0         \n",
            "                                                                 \n",
            " time_distributed_21 (TimeDi  (None, 15, 200)          102600    \n",
            " stributed)                                                      \n",
            "                                                                 \n",
            "=================================================================\n",
            "Total params: 772,936\n",
            "Trainable params: 772,936\n",
            "Non-trainable params: 0\n",
            "_________________________________________________________________\n",
            "Epoch 1/25\n",
            "99/99 [==============================] - 181s 2s/step - loss: 2.7506 - accuracy: 0.3666 - val_loss: 1.6166 - val_accuracy: 0.5468\n",
            "Epoch 2/25\n",
            "99/99 [==============================] - 152s 2s/step - loss: 1.3210 - accuracy: 0.6103 - val_loss: 0.8913 - val_accuracy: 0.7015\n",
            "Epoch 3/25\n",
            "99/99 [==============================] - 153s 2s/step - loss: 1.1443 - accuracy: 0.6538 - val_loss: 0.7902 - val_accuracy: 0.7132\n",
            "Epoch 4/25\n",
            "99/99 [==============================] - 162s 2s/step - loss: 0.7976 - accuracy: 0.7159 - val_loss: 0.7121 - val_accuracy: 0.7482\n",
            "Epoch 5/25\n",
            "99/99 [==============================] - 153s 2s/step - loss: 1.0964 - accuracy: 0.6710 - val_loss: 0.7329 - val_accuracy: 0.7360\n",
            "Epoch 6/25\n",
            "99/99 [==============================] - 153s 2s/step - loss: 0.7394 - accuracy: 0.7381 - val_loss: 0.6529 - val_accuracy: 0.7714\n",
            "Epoch 7/25\n",
            "99/99 [==============================] - 152s 2s/step - loss: 0.8337 - accuracy: 0.7309 - val_loss: 0.6530 - val_accuracy: 0.7653\n",
            "Epoch 8/25\n",
            "99/99 [==============================] - 153s 2s/step - loss: 0.6536 - accuracy: 0.7695 - val_loss: 0.5753 - val_accuracy: 0.8003\n",
            "Epoch 9/25\n",
            "99/99 [==============================] - 162s 2s/step - loss: 0.5850 - accuracy: 0.7959 - val_loss: 0.5260 - val_accuracy: 0.8144\n",
            "Epoch 10/25\n",
            "99/99 [==============================] - 161s 2s/step - loss: 0.8092 - accuracy: 0.7479 - val_loss: 0.5810 - val_accuracy: 0.7972\n",
            "Epoch 11/25\n",
            "99/99 [==============================] - 162s 2s/step - loss: 0.5773 - accuracy: 0.7990 - val_loss: 0.4961 - val_accuracy: 0.8255\n",
            "Epoch 12/25\n",
            "99/99 [==============================] - 152s 2s/step - loss: 0.5013 - accuracy: 0.8189 - val_loss: 0.4106 - val_accuracy: 0.8486\n",
            "Epoch 13/25\n",
            "99/99 [==============================] - 153s 2s/step - loss: 0.4261 - accuracy: 0.8383 - val_loss: 0.3398 - val_accuracy: 0.8776\n",
            "Epoch 14/25\n",
            "99/99 [==============================] - 153s 2s/step - loss: 0.3692 - accuracy: 0.8569 - val_loss: 0.2925 - val_accuracy: 0.8952\n",
            "Epoch 15/25\n",
            "99/99 [==============================] - 152s 2s/step - loss: 0.3426 - accuracy: 0.8680 - val_loss: 0.2565 - val_accuracy: 0.9116\n",
            "Epoch 16/25\n",
            "99/99 [==============================] - 162s 2s/step - loss: 0.2883 - accuracy: 0.8906 - val_loss: 0.2220 - val_accuracy: 0.9226\n",
            "Epoch 17/25\n",
            "99/99 [==============================] - 152s 2s/step - loss: 0.2479 - accuracy: 0.9076 - val_loss: 0.1907 - val_accuracy: 0.9337\n",
            "Epoch 18/25\n",
            "99/99 [==============================] - 162s 2s/step - loss: 0.2138 - accuracy: 0.9219 - val_loss: 0.1665 - val_accuracy: 0.9410\n",
            "Epoch 19/25\n",
            "99/99 [==============================] - 162s 2s/step - loss: 0.1933 - accuracy: 0.9292 - val_loss: 0.1485 - val_accuracy: 0.9454\n",
            "Epoch 20/25\n",
            "99/99 [==============================] - 153s 2s/step - loss: 0.5246 - accuracy: 0.8605 - val_loss: 0.4992 - val_accuracy: 0.8285\n",
            "Epoch 21/25\n",
            "99/99 [==============================] - 162s 2s/step - loss: 0.3394 - accuracy: 0.8765 - val_loss: 0.1570 - val_accuracy: 0.9455\n",
            "Epoch 22/25\n",
            "99/99 [==============================] - 153s 2s/step - loss: 0.1821 - accuracy: 0.9293 - val_loss: 0.1066 - val_accuracy: 0.9582\n",
            "Epoch 23/25\n",
            "99/99 [==============================] - 153s 2s/step - loss: 0.1388 - accuracy: 0.9427 - val_loss: 0.0848 - val_accuracy: 0.9635\n",
            "Epoch 24/25\n",
            "99/99 [==============================] - 162s 2s/step - loss: 0.1122 - accuracy: 0.9524 - val_loss: 0.0579 - val_accuracy: 0.9730\n",
            "Epoch 25/25\n",
            "99/99 [==============================] - 162s 2s/step - loss: 0.0830 - accuracy: 0.9635 - val_loss: 0.0484 - val_accuracy: 0.9736\n"
          ]
        },
        {
          "output_type": "stream",
          "name": "stderr",
          "text": [
            "WARNING:tensorflow:6 out of the last 6 calls to <function Model.make_predict_function.<locals>.predict_function at 0x7f1824bbcaf0> triggered tf.function retracing. Tracing is expensive and the excessive number of tracings could be due to (1) creating @tf.function repeatedly in a loop, (2) passing tensors with different shapes, (3) passing Python objects instead of tensors. For (1), please define your @tf.function outside of the loop. For (2), @tf.function has reduce_retracing=True option that can avoid unnecessary retracing. For (3), please refer to https://www.tensorflow.org/guide/function#controlling_retracing and https://www.tensorflow.org/api_docs/python/tf/function for  more details.\n"
          ]
        },
        {
          "output_type": "stream",
          "name": "stdout",
          "text": [
            "1/1 [==============================] - 1s 1s/step\n",
            "Sample 1:\n",
            "he saw a old yellow truck <PAD> <PAD> <PAD> <PAD> <PAD> <PAD> <PAD> <PAD> <PAD>\n",
            "He saw an old yellow truck\n",
            "Sample 2:\n",
            "new jersey is sometimes quiet during fall and it is snowy in april <PAD> <PAD>\n",
            "new jersey is sometimes quiet during autumn and it is snowy in april <PAD> <PAD>\n"
          ]
        }
      ],
      "source": [
        "import numpy as np\n",
        "from tensorflow.keras.preprocessing.sequence import pad_sequences\n",
        "\n",
        "\n",
        "def final_predictions(x, y, x_tk, y_tk):\n",
        "    \"\"\"\n",
        "    Gets predictions using the final model\n",
        "    :param x: Preprocessed English data\n",
        "    :param y: Preprocessed French data\n",
        "    :param x_tk: English tokenizer\n",
        "    :param y_tk: French tokenizer\n",
        "    \"\"\"\n",
        "    # TODO: Train neural network using model_final\n",
        "    model = model_final(x.shape,y.shape[1],\n",
        "                        len(x_tk.word_index)+1,\n",
        "                        len(y_tk.word_index)+1)\n",
        "    model.summary()\n",
        "    model.fit(x, y, batch_size=1024, epochs=25, validation_split=0.2)\n",
        "\n",
        "    \n",
        "    ## DON'T EDIT ANYTHING BELOW THIS LINE\n",
        "    y_id_to_word = {value: key for key, value in y_tk.word_index.items()}\n",
        "    y_id_to_word[0] = '<PAD>'\n",
        "\n",
        "    #sentence = 'he saw a old yellow truck'\n",
        "    sentence = 'il a vu un vieux camion jaune'\n",
        "    sentence = [x_tk.word_index[word] for word in sentence.split()]\n",
        "    sentence = pad_sequences([sentence], maxlen=x.shape[-1], padding='post')\n",
        "    sentences = np.array([sentence[0], x[0]])\n",
        "    predictions = model.predict(sentences, len(sentences))\n",
        "\n",
        "    print('Sample 1:')\n",
        "    print(' '.join([y_id_to_word[np.argmax(x)] for x in predictions[0]]))\n",
        "    #print('Il a vu un vieux camion jaune')\n",
        "    print('He saw an old yellow truck')\n",
        "    print('Sample 2:')\n",
        "    print(' '.join([y_id_to_word[np.argmax(x)] for x in predictions[1]]))\n",
        "    print(' '.join([y_id_to_word[np.max(x)] for x in y[0]]))\n",
        "\n",
        "\n",
        "#final_predictions(preproc_english_sentences, preproc_french_sentences, english_tokenizer, french_tokenizer)\n",
        "final_predictions(preproc_french_sentences, preproc_english_sentences, french_tokenizer, english_tokenizer)"
      ]
    },
    {
      "cell_type": "markdown",
      "metadata": {
        "id": "DfAT44vzF3Pz"
      },
      "source": [
        "## Submission\n",
        "When you are ready to submit your project, do the following steps:\n",
        "1. Ensure you pass all points on the [rubric](https://review.udacity.com/#!/rubrics/1004/view).\n",
        "2. Submit the following in a zip file.\n",
        "  - `helper.py`\n",
        "  - `machine_translation.ipynb`\n",
        "  - `machine_translation.html`\n",
        "    - You can export the notebook by navigating to **File -> Download as -> HTML (.html)**."
      ]
    }
  ],
  "metadata": {
    "kernelspec": {
      "display_name": "Python 3 (ipykernel)",
      "language": "python",
      "name": "python3"
    },
    "language_info": {
      "codemirror_mode": {
        "name": "ipython",
        "version": 3
      },
      "file_extension": ".py",
      "mimetype": "text/x-python",
      "name": "python",
      "nbconvert_exporter": "python",
      "pygments_lexer": "ipython3",
      "version": "3.9.13"
    },
    "colab": {
      "provenance": []
    }
  },
  "nbformat": 4,
  "nbformat_minor": 0
}